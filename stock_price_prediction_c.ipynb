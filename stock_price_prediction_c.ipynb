{
 "cells": [
  {
   "cell_type": "code",
   "execution_count": 1,
   "metadata": {},
   "outputs": [],
   "source": [
    "%load_ext autoreload\n",
    "%autoreload 2"
   ]
  },
  {
   "cell_type": "code",
   "execution_count": 2,
   "metadata": {},
   "outputs": [
    {
     "name": "stdout",
     "output_type": "stream",
     "text": [
      "YF.download() has changed argument auto_adjust default to True\n"
     ]
    },
    {
     "name": "stderr",
     "output_type": "stream",
     "text": [
      "[*********************100%***********************]  1 of 1 completed\n"
     ]
    }
   ],
   "source": [
    "import pandas as pd\n",
    "\n",
    "import time\n",
    "import numpy as np\n",
    "import math\n",
    "import matplotlib.pyplot as plt\n",
    "\n",
    "import torch\n",
    "from torch.utils.data import DataLoader\n",
    "from torch import nn\n",
    "\n",
    "from datetime import datetime\n",
    "\n",
    "from QLSTM import SequenceDataset\n",
    "\n",
    "import yfinance as yf\n",
    "from pandas_datareader import data as pdr\n",
    "data = yf.download(\"AAPL\", start=\"2020-01-01\", end=\"2021-01-01\")\n",
    "\n",
    "import scienceplots\n",
    "\n",
    "# plt.style.use(['science','ieee'])\n",
    "plt.rcParams['axes.grid'] = True\n",
    "# no use latex\n",
    "plt.rcParams['text.usetex'] = False"
   ]
  },
  {
   "cell_type": "code",
   "execution_count": 6,
   "metadata": {},
   "outputs": [],
   "source": [
    "df = pd.read_csv('./AAPL_2022-01-01_2023-01-01.csv')"
   ]
  },
  {
   "cell_type": "code",
   "execution_count": 7,
   "metadata": {},
   "outputs": [],
   "source": [
    "columns = [\"Close\"]"
   ]
  },
  {
   "cell_type": "code",
   "execution_count": 8,
   "metadata": {},
   "outputs": [],
   "source": [
    "data = df.filter(columns)\n",
    "dataset = data.values"
   ]
  },
  {
   "cell_type": "code",
   "execution_count": 9,
   "metadata": {},
   "outputs": [],
   "source": [
    "# Splitting the data into train and test\n",
    "size = int(len(df) * 0.7)\n",
    "df_train = dataset[:size].copy()\n",
    "df_test = dataset[size:].copy()"
   ]
  },
  {
   "cell_type": "code",
   "execution_count": 10,
   "metadata": {},
   "outputs": [],
   "source": [
    "# Select the features\n",
    "df_train = pd.DataFrame(df_train, columns=columns)\n",
    "df_test = pd.DataFrame(df_test, columns=columns)\n",
    "\n",
    "features = df_train.columns\n",
    "target = 'Close'"
   ]
  },
  {
   "cell_type": "code",
   "execution_count": 11,
   "metadata": {},
   "outputs": [],
   "source": [
    "def normalize(a, min_a=None, max_a=None):\n",
    "    if min_a is None:\n",
    "        min_a, max_a = np.min(a, axis=0), np.max(a, axis=0)\n",
    "    return (a - min_a) / (max_a - min_a + 0.0001), min_a, max_a"
   ]
  },
  {
   "cell_type": "code",
   "execution_count": 12,
   "metadata": {},
   "outputs": [],
   "source": [
    "# Normalizing the data\n",
    "df_train, min_train, max_train = normalize(df_train)\n",
    "df_test, _, _ = normalize(df_test, min_train, max_train)"
   ]
  },
  {
   "cell_type": "code",
   "execution_count": 13,
   "metadata": {},
   "outputs": [
    {
     "name": "stdout",
     "output_type": "stream",
     "text": [
      "Features shape: torch.Size([1, 3, 1])\n",
      "Target shape: torch.Size([1])\n"
     ]
    }
   ],
   "source": [
    "torch.manual_seed(101)\n",
    "\n",
    "batch_size = 1\n",
    "sequence_length = 3\n",
    "\n",
    "train_dataset = SequenceDataset(\n",
    "    df_train,\n",
    "    target=target,\n",
    "    features=features,\n",
    "    sequence_length=sequence_length\n",
    ")\n",
    "test_dataset = SequenceDataset(\n",
    "    df_test,\n",
    "    target=target,\n",
    "    features=features,\n",
    "    sequence_length=sequence_length\n",
    ")\n",
    "\n",
    "train_loader = DataLoader(train_dataset, batch_size=batch_size, shuffle=True)\n",
    "test_loader = DataLoader(test_dataset, batch_size=batch_size, shuffle=False)\n",
    "\n",
    "X, y = next(iter(train_loader))\n",
    "\n",
    "print(\"Features shape:\", X.shape)\n",
    "print(\"Target shape:\", y.shape)"
   ]
  },
  {
   "cell_type": "code",
   "execution_count": 14,
   "metadata": {},
   "outputs": [],
   "source": [
    "def train_model(data_loader, model, loss_function, optimizer):\n",
    "    num_batches = len(data_loader)\n",
    "    total_loss = 0\n",
    "    model.train()\n",
    "    \n",
    "    for X, y in data_loader:\n",
    "        output = model(X)\n",
    "        loss = loss_function(output, y)\n",
    "\n",
    "        optimizer.zero_grad()\n",
    "        loss.backward()\n",
    "        optimizer.step()\n",
    "\n",
    "        total_loss += loss.item()\n",
    "\n",
    "    avg_loss = total_loss / num_batches\n",
    "    print(f\"Train loss: {avg_loss}\")\n",
    "    return avg_loss\n",
    "\n",
    "\n",
    "def test_model(data_loader, model, loss_function): \n",
    "    num_batches = len(data_loader)\n",
    "    total_loss = 0\n",
    "\n",
    "    model.eval()\n",
    "    with torch.no_grad():\n",
    "        for X, y in data_loader:\n",
    "            output = model(X)\n",
    "            total_loss += loss_function(output, y).item()\n",
    "\n",
    "    avg_loss = total_loss / num_batches\n",
    "    print(f\"Test loss: {avg_loss}\")\n",
    "    return avg_loss\n",
    "\n",
    "def predict(data_loader, model):\n",
    "    \"\"\"Just like `test_loop` function but keep track of the outputs instead of the loss\n",
    "    function.\n",
    "    \"\"\"\n",
    "    output = torch.tensor([])\n",
    "    model.eval()\n",
    "    with torch.no_grad():\n",
    "        for X, _ in data_loader:\n",
    "            y_star = model(X)\n",
    "            output = torch.cat((output, y_star), 0)\n",
    "    \n",
    "    return output"
   ]
  },
  {
   "cell_type": "code",
   "execution_count": 15,
   "metadata": {},
   "outputs": [],
   "source": [
    "from QLSTM import ShallowRegressionLSTM\n",
    "\n",
    "learning_rate = 0.01\n",
    "num_hidden_units = 7\n",
    "\n",
    "model = ShallowRegressionLSTM(\n",
    "    num_sensors=len(features),\n",
    "    hidden_units=num_hidden_units,\n",
    "    num_layers=1\n",
    ")\n",
    "loss_function = nn.MSELoss()\n",
    "optimizer = torch.optim.Adam(model.parameters(), lr=learning_rate)"
   ]
  },
  {
   "cell_type": "code",
   "execution_count": 16,
   "metadata": {},
   "outputs": [
    {
     "name": "stdout",
     "output_type": "stream",
     "text": [
      "Number of parameters: 288\n"
     ]
    }
   ],
   "source": [
    "# Count number of parameters\n",
    "num_params = sum(p.numel() for p in model.parameters() if p.requires_grad)\n",
    "print(f\"Number of parameters: {num_params}\")"
   ]
  },
  {
   "cell_type": "code",
   "execution_count": 17,
   "metadata": {},
   "outputs": [
    {
     "name": "stdout",
     "output_type": "stream",
     "text": [
      "Untrained test\n",
      "--------\n",
      "\n",
      "Epoch 0\n",
      "---------\n",
      "Train loss: 0.021099415891505616\n",
      "Test loss: 0.005053614166064635\n",
      "Epoch 1\n",
      "---------\n",
      "Train loss: 0.0030291435969003774\n",
      "Test loss: 0.0025364696631593113\n",
      "Epoch 2\n",
      "---------\n",
      "Train loss: 0.0018104227354579702\n",
      "Test loss: 0.001431144771855411\n",
      "Epoch 3\n",
      "---------\n",
      "Train loss: 0.0007256599098196505\n",
      "Test loss: 0.00033755228931354217\n",
      "Epoch 4\n",
      "---------\n",
      "Train loss: 0.00024456688405413376\n",
      "Test loss: 0.00011370103526356514\n",
      "Epoch 5\n",
      "---------\n",
      "Train loss: 4.5968030351336405e-05\n",
      "Test loss: 4.658205244433804e-05\n",
      "Epoch 6\n",
      "---------\n",
      "Train loss: 2.168323827239606e-05\n",
      "Test loss: 2.7431993089708695e-05\n",
      "Epoch 7\n",
      "---------\n",
      "Train loss: 2.7012278017290367e-05\n",
      "Test loss: 2.547366774716558e-05\n",
      "Epoch 8\n",
      "---------\n",
      "Train loss: 2.0050426855881146e-05\n",
      "Test loss: 6.281402638115041e-05\n",
      "Epoch 9\n",
      "---------\n",
      "Train loss: 3.6643859413416633e-05\n",
      "Test loss: 6.107150411506866e-05\n",
      "Epoch 10\n",
      "---------\n",
      "Train loss: 2.5180302459050707e-05\n",
      "Test loss: 1.5572276384729677e-05\n",
      "Epoch 11\n",
      "---------\n",
      "Train loss: 3.737474486952814e-05\n",
      "Test loss: 8.526334185871886e-06\n",
      "Epoch 12\n",
      "---------\n",
      "Train loss: 3.326118397877918e-05\n",
      "Test loss: 1.6231324839702975e-05\n",
      "Epoch 13\n",
      "---------\n",
      "Train loss: 0.00010582635125331308\n",
      "Test loss: 1.1615781603527422e-05\n",
      "Epoch 14\n",
      "---------\n",
      "Train loss: 2.2182255575131647e-05\n",
      "Test loss: 1.230727936625615e-05\n",
      "Epoch 15\n",
      "---------\n",
      "Train loss: 0.00010985085981742161\n",
      "Test loss: 3.311127658746141e-05\n",
      "Epoch 16\n",
      "---------\n",
      "Train loss: 0.00025012180243403953\n",
      "Test loss: 8.680069373197921e-06\n",
      "Epoch 17\n",
      "---------\n",
      "Train loss: 2.4489040332264115e-05\n",
      "Test loss: 5.5590396611574095e-06\n",
      "Epoch 18\n",
      "---------\n",
      "Train loss: 2.2307914852060913e-05\n",
      "Test loss: 2.456699344129778e-05\n",
      "Epoch 19\n",
      "---------\n",
      "Train loss: 2.3199523973340684e-05\n",
      "Test loss: 3.263451575314117e-06\n",
      "Epoch 20\n",
      "---------\n",
      "Train loss: 1.16129572320643e-05\n",
      "Test loss: 6.632435666833586e-06\n",
      "Epoch 21\n",
      "---------\n",
      "Train loss: 1.595972485224679e-05\n",
      "Test loss: 1.1186843849311351e-05\n",
      "Epoch 22\n",
      "---------\n",
      "Train loss: 1.9845833297727567e-05\n",
      "Test loss: 5.1497689827046126e-06\n",
      "Epoch 23\n",
      "---------\n",
      "Train loss: 2.6221686664510254e-05\n",
      "Test loss: 2.6644161283565094e-05\n",
      "Epoch 24\n",
      "---------\n",
      "Train loss: 8.254787324209495e-05\n",
      "Test loss: 2.5089605334742926e-05\n",
      "Epoch 25\n",
      "---------\n",
      "Train loss: 0.001306062517896862\n",
      "Test loss: 0.0038517630474464233\n",
      "Epoch 26\n",
      "---------\n",
      "Train loss: 0.001331238298908143\n",
      "Test loss: 7.646622341015898e-05\n",
      "Epoch 27\n",
      "---------\n",
      "Train loss: 2.4671115816425574e-05\n",
      "Test loss: 9.092032986724482e-06\n",
      "Epoch 28\n",
      "---------\n",
      "Train loss: 1.6310864978039367e-05\n",
      "Test loss: 4.3717915186460376e-05\n",
      "Epoch 29\n",
      "---------\n",
      "Train loss: 4.7223602767323717e-05\n",
      "Test loss: 7.684781878730381e-06\n",
      "Epoch 30\n",
      "---------\n",
      "Train loss: 2.3923782618230202e-05\n",
      "Test loss: 1.0595707397067033e-05\n",
      "Epoch 31\n",
      "---------\n",
      "Train loss: 1.7794439781881572e-05\n",
      "Test loss: 1.6175048672181635e-05\n",
      "Epoch 32\n",
      "---------\n",
      "Train loss: 1.290460233323338e-05\n",
      "Test loss: 1.2421987381266694e-05\n",
      "Epoch 33\n",
      "---------\n",
      "Train loss: 5.3064621321381774e-05\n",
      "Test loss: 2.4407984091972796e-05\n",
      "Epoch 34\n",
      "---------\n",
      "Train loss: 0.00021501356871198648\n",
      "Test loss: 6.68636995415639e-06\n",
      "Epoch 35\n",
      "---------\n",
      "Train loss: 6.988054357679272e-05\n",
      "Test loss: 1.1209420509349891e-05\n",
      "Epoch 36\n",
      "---------\n",
      "Train loss: 5.811435989459466e-05\n",
      "Test loss: 4.966629088583381e-06\n",
      "Epoch 37\n",
      "---------\n",
      "Train loss: 1.3822208793255543e-05\n",
      "Test loss: 6.312724968888561e-06\n",
      "Epoch 38\n",
      "---------\n",
      "Train loss: 1.8360578721703697e-05\n",
      "Test loss: 4.666656002586708e-06\n",
      "Epoch 39\n",
      "---------\n",
      "Train loss: 6.166147895790175e-05\n",
      "Test loss: 0.00034039785719199386\n",
      "Epoch 40\n",
      "---------\n",
      "Train loss: 0.00013737799294558174\n",
      "Test loss: 9.674346895793244e-05\n",
      "Epoch 41\n",
      "---------\n",
      "Train loss: 0.0002355664569549682\n",
      "Test loss: 0.0002835119269315923\n",
      "Epoch 42\n",
      "---------\n",
      "Train loss: 0.00014958049967727253\n",
      "Test loss: 0.0002393469468782278\n",
      "Epoch 43\n",
      "---------\n",
      "Train loss: 0.0003673916278632662\n",
      "Test loss: 9.16114967439123e-05\n",
      "Epoch 44\n",
      "---------\n",
      "Train loss: 2.9110551471361087e-05\n",
      "Test loss: 6.786646731169933e-06\n",
      "Epoch 45\n",
      "---------\n",
      "Train loss: 1.6086106522058076e-05\n",
      "Test loss: 1.788699602469167e-05\n",
      "Epoch 46\n",
      "---------\n",
      "Train loss: 9.992879948276213e-05\n",
      "Test loss: 3.523749324591862e-05\n",
      "Epoch 47\n",
      "---------\n",
      "Train loss: 0.0004843415930967865\n",
      "Test loss: 0.00012434359540203807\n",
      "Epoch 48\n",
      "---------\n",
      "Train loss: 0.00012236287370533157\n",
      "Test loss: 9.276149794793112e-06\n",
      "Epoch 49\n",
      "---------\n",
      "Train loss: 2.8759907030127303e-05\n",
      "Test loss: 2.3702412731851335e-05\n"
     ]
    }
   ],
   "source": [
    "classical_loss_train = []\n",
    "classical_loss_test = []\n",
    "print(\"Untrained test\\n--------\")\n",
    "# test_loss = test_model(test_loader, model, loss_function)\n",
    "print()\n",
    "\n",
    "num_epochs = 50\n",
    "\n",
    "for ix_epoch in range(num_epochs):\n",
    "    print(f\"Epoch {ix_epoch}\\n---------\")\n",
    "    train_loss = train_model(train_loader, model, loss_function, optimizer=optimizer)\n",
    "    test_loss = test_model(test_loader, model, loss_function)\n",
    "    classical_loss_train.append(train_loss)\n",
    "    classical_loss_test.append(test_loss)"
   ]
  },
  {
   "cell_type": "code",
   "execution_count": 18,
   "metadata": {},
   "outputs": [],
   "source": [
    "train_eval_loader = DataLoader(train_dataset, batch_size=batch_size, shuffle=False)\n",
    "test_eval_loader = DataLoader(test_dataset, batch_size=batch_size, shuffle=False)\n",
    "\n",
    "ystar_col_Q = \"Model Forecast\"\n",
    "df_train[ystar_col_Q] = predict(train_eval_loader, model).numpy()\n",
    "df_test[ystar_col_Q] = predict(test_eval_loader, model).numpy()"
   ]
  },
  {
   "cell_type": "code",
   "execution_count": 19,
   "metadata": {},
   "outputs": [],
   "source": [
    "# plt.figure(figsize=(12, 7))\n",
    "# plt.plot(range(len(df_train)), df_train[columns], label = \"Real\")\n",
    "# plt.plot(range(len(df_train)), df_train[\"Model Forecast\"], label = \"LSTM Train Prediction\")\n",
    "# plt.ylabel('Stock Price')\n",
    "# plt.xlabel('Days')\n",
    "# plt.legend()\n",
    "# plt.show()"
   ]
  },
  {
   "cell_type": "code",
   "execution_count": 20,
   "metadata": {},
   "outputs": [
    {
     "data": {
      "image/png": "[encoded data removed]",
      "text/plain": [
       "<Figure size 1200x700 with 1 Axes>"
      ]
     },
     "metadata": {},
     "output_type": "display_data"
    }
   ],
   "source": [
    "plt.figure(figsize=(12, 7))\n",
    "plt.plot(range(len(df_test)), df_test[columns], label = \"Real Data\")\n",
    "plt.plot(range(len(df_test)), df_test[\"Model Forecast\"], label = \"LSTM Test Prediction\")\n",
    "plt.ylabel('Stock Price')\n",
    "plt.xlabel('Days')\n",
    "plt.legend()\n",
    "plt.show()"
   ]
  },
  {
   "cell_type": "code",
   "execution_count": 21,
   "metadata": {},
   "outputs": [],
   "source": [
    "# df_test.to_csv('AAPL_2022-01-01_2023-01-01_LSTM.csv', index=False)"
   ]
  },
  {
   "cell_type": "code",
   "execution_count": 22,
   "metadata": {},
   "outputs": [
    {
     "data": {
      "text/plain": [
       "<matplotlib.legend.Legend at 0x197349fe590>"
      ]
     },
     "execution_count": 22,
     "metadata": {},
     "output_type": "execute_result"
    },
    {
     "data": {
      "image/png": "[encoded data removed]",
      "text/plain": [
       "<Figure size 640x480 with 1 Axes>"
      ]
     },
     "metadata": {},
     "output_type": "display_data"
    }
   ],
   "source": [
    "plt.plot(classical_loss_train, label='classical_loss_train')\n",
    "# plt.plot(classical_loss_test, label='classical_loss_test')\n",
    "pd.DataFrame(classical_loss_train).to_csv('LSTM_loss.csv', index=False)\n",
    "plt.title('Train loss')\n",
    "plt.legend()"
   ]
  },
  {
   "cell_type": "code",
   "execution_count": 23,
   "metadata": {},
   "outputs": [
    {
     "name": "stdout",
     "output_type": "stream",
     "text": [
      "Train RMSE: 0.004553309809231617\n",
      "Test RMSE: 0.004868512148952862\n"
     ]
    }
   ],
   "source": [
    "# Calculate the RMSE for the train and test data\n",
    "from sklearn.metrics import mean_squared_error\n",
    "\n",
    "train_rmse = math.sqrt(mean_squared_error(df_train[columns], df_train[\"Model Forecast\"]))\n",
    "test_rmse = math.sqrt(mean_squared_error(df_test[columns], df_test[\"Model Forecast\"]))\n",
    "print(f\"Train RMSE: {train_rmse}\")\n",
    "print(f\"Test RMSE: {test_rmse}\")"
   ]
  },
  {
   "cell_type": "code",
   "execution_count": 24,
   "metadata": {},
   "outputs": [
    {
     "name": "stdout",
     "output_type": "stream",
     "text": [
      "Train accuracy: 1.0\n",
      "Test accuracy: 1.0\n"
     ]
    }
   ],
   "source": [
    "# Calculate the accuracy of the model\n",
    "def accuracy(y, y_star):\n",
    "    return np.mean(np.abs(y - y_star) < 0.1)\n",
    "\n",
    "train_accuracy = accuracy(df_train[\"Close\"], df_train[\"Model Forecast\"])\n",
    "test_accuracy = accuracy(df_test[\"Close\"], df_test[\"Model Forecast\"])\n",
    "print(f\"Train accuracy: {train_accuracy}\")\n",
    "print(f\"Test accuracy: {test_accuracy}\")"
   ]
  },
  {
   "cell_type": "code",
   "execution_count": null,
   "metadata": {},
   "outputs": [],
   "source": []
  },
  {
   "cell_type": "code",
   "execution_count": null,
   "metadata": {},
   "outputs": [],
   "source": []
  }
 ],
 "metadata": {
  "kernelspec": {
   "display_name": "env",
   "language": "python",
   "name": "python3"
  },
  "language_info": {
   "codemirror_mode": {
    "name": "ipython",
    "version": 3
   },
   "file_extension": ".py",
   "mimetype": "text/x-python",
   "name": "python",
   "nbconvert_exporter": "python",
   "pygments_lexer": "ipython3",
   "version": "3.10.8"
  },
  "orig_nbformat": 4
 },
 "nbformat": 4,
 "nbformat_minor": 2
}
