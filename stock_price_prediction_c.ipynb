{
 "cells": [
  {
   "cell_type": "code",
   "execution_count": 1,
   "metadata": {},
   "outputs": [],
   "source": [
    "%load_ext autoreload\n",
    "%autoreload 2"
   ]
  },
  {
   "cell_type": "code",
   "execution_count": 2,
   "metadata": {},
   "outputs": [
    {
     "name": "stdout",
     "output_type": "stream",
     "text": [
      "YF.download() has changed argument auto_adjust default to True\n"
     ]
    },
    {
     "name": "stderr",
     "output_type": "stream",
     "text": [
      "[*********************100%***********************]  1 of 1 completed\n"
     ]
    }
   ],
   "source": [
    "import pandas as pd\n",
    "\n",
    "import time\n",
    "import numpy as np\n",
    "import math\n",
    "import matplotlib.pyplot as plt\n",
    "\n",
    "import torch\n",
    "from torch.utils.data import DataLoader\n",
    "from torch import nn\n",
    "\n",
    "from datetime import datetime\n",
    "\n",
    "from QLSTM import SequenceDataset\n",
    "\n",
    "import yfinance as yf\n",
    "from pandas_datareader import data as pdr\n",
    "data = yf.download(\"AAPL\", start=\"2020-01-01\", end=\"2021-01-01\")\n",
    "\n",
    "import scienceplots\n",
    "\n",
    "# plt.style.use(['science','ieee'])\n",
    "plt.rcParams['axes.grid'] = True\n",
    "# no use latex\n",
    "plt.rcParams['text.usetex'] = False"
   ]
  },
  {
   "cell_type": "code",
   "execution_count": 3,
   "metadata": {},
   "outputs": [],
   "source": [
    "# df = pd.read_csv('./AAPL_2022-01-01_2023-01-01.csv')\n",
    "df = pd.read_csv('./irregularly_sampled_data.csv')"
   ]
  },
  {
   "cell_type": "code",
   "execution_count": 4,
   "metadata": {},
   "outputs": [],
   "source": [
    "columns = [\"Close\"]"
   ]
  },
  {
   "cell_type": "code",
   "execution_count": 5,
   "metadata": {},
   "outputs": [],
   "source": [
    "data = df.filter(columns)\n",
    "dataset = data.values"
   ]
  },
  {
   "cell_type": "code",
   "execution_count": 6,
   "metadata": {},
   "outputs": [],
   "source": [
    "# Splitting the data into train and test\n",
    "size = int(len(df) * 0.7)\n",
    "df_train = dataset[:size].copy()\n",
    "df_test = dataset[size:].copy()"
   ]
  },
  {
   "cell_type": "code",
   "execution_count": 7,
   "metadata": {},
   "outputs": [],
   "source": [
    "# Select the features\n",
    "df_train = pd.DataFrame(df_train, columns=columns)\n",
    "df_test = pd.DataFrame(df_test, columns=columns)\n",
    "\n",
    "features = df_train.columns\n",
    "target = 'Close'"
   ]
  },
  {
   "cell_type": "code",
   "execution_count": 8,
   "metadata": {},
   "outputs": [],
   "source": [
    "def normalize(a, min_a=None, max_a=None):\n",
    "    if min_a is None:\n",
    "        min_a, max_a = np.min(a, axis=0), np.max(a, axis=0)\n",
    "    return (a - min_a) / (max_a - min_a + 0.0001), min_a, max_a"
   ]
  },
  {
   "cell_type": "code",
   "execution_count": 9,
   "metadata": {},
   "outputs": [],
   "source": [
    "# Normalizing the data\n",
    "df_train, min_train, max_train = normalize(df_train)\n",
    "df_test, _, _ = normalize(df_test, min_train, max_train)"
   ]
  },
  {
   "cell_type": "code",
   "execution_count": 10,
   "metadata": {},
   "outputs": [
    {
     "name": "stdout",
     "output_type": "stream",
     "text": [
      "Features shape: torch.Size([1, 3, 1])\n",
      "Target shape: torch.Size([1])\n"
     ]
    }
   ],
   "source": [
    "torch.manual_seed(101)\n",
    "\n",
    "batch_size = 1\n",
    "sequence_length = 3\n",
    "\n",
    "train_dataset = SequenceDataset(\n",
    "    df_train,\n",
    "    target=target,\n",
    "    features=features,\n",
    "    sequence_length=sequence_length\n",
    ")\n",
    "test_dataset = SequenceDataset(\n",
    "    df_test,\n",
    "    target=target,\n",
    "    features=features,\n",
    "    sequence_length=sequence_length\n",
    ")\n",
    "\n",
    "train_loader = DataLoader(train_dataset, batch_size=batch_size, shuffle=True)\n",
    "test_loader = DataLoader(test_dataset, batch_size=batch_size, shuffle=False)\n",
    "\n",
    "X, y = next(iter(train_loader))\n",
    "\n",
    "print(\"Features shape:\", X.shape)\n",
    "print(\"Target shape:\", y.shape)"
   ]
  },
  {
   "cell_type": "code",
   "execution_count": 11,
   "metadata": {},
   "outputs": [],
   "source": [
    "def train_model(data_loader, model, loss_function, optimizer):\n",
    "    num_batches = len(data_loader)\n",
    "    total_loss = 0\n",
    "    model.train()\n",
    "    \n",
    "    for X, y in data_loader:\n",
    "        output = model(X)\n",
    "        loss = loss_function(output, y)\n",
    "\n",
    "        optimizer.zero_grad()\n",
    "        loss.backward()\n",
    "        optimizer.step()\n",
    "\n",
    "        total_loss += loss.item()\n",
    "\n",
    "    avg_loss = total_loss / num_batches\n",
    "    print(f\"Train loss: {avg_loss}\")\n",
    "    return avg_loss\n",
    "\n",
    "\n",
    "def test_model(data_loader, model, loss_function): \n",
    "    num_batches = len(data_loader)\n",
    "    total_loss = 0\n",
    "\n",
    "    model.eval()\n",
    "    with torch.no_grad():\n",
    "        for X, y in data_loader:\n",
    "            output = model(X)\n",
    "            total_loss += loss_function(output, y).item()\n",
    "\n",
    "    avg_loss = total_loss / num_batches\n",
    "    print(f\"Test loss: {avg_loss}\")\n",
    "    return avg_loss\n",
    "\n",
    "def predict(data_loader, model):\n",
    "    \"\"\"Just like `test_loop` function but keep track of the outputs instead of the loss\n",
    "    function.\n",
    "    \"\"\"\n",
    "    output = torch.tensor([])\n",
    "    model.eval()\n",
    "    with torch.no_grad():\n",
    "        for X, _ in data_loader:\n",
    "            y_star = model(X)\n",
    "            output = torch.cat((output, y_star), 0)\n",
    "    \n",
    "    return output"
   ]
  },
  {
   "cell_type": "code",
   "execution_count": 12,
   "metadata": {},
   "outputs": [],
   "source": [
    "from QLSTM import ShallowRegressionLSTM\n",
    "\n",
    "learning_rate = 0.01\n",
    "num_hidden_units = 7\n",
    "\n",
    "model = ShallowRegressionLSTM(\n",
    "    num_sensors=len(features),\n",
    "    hidden_units=num_hidden_units,\n",
    "    num_layers=1\n",
    ")\n",
    "loss_function = nn.MSELoss()\n",
    "optimizer = torch.optim.Adam(model.parameters(), lr=learning_rate)"
   ]
  },
  {
   "cell_type": "code",
   "execution_count": 13,
   "metadata": {},
   "outputs": [
    {
     "name": "stdout",
     "output_type": "stream",
     "text": [
      "Number of parameters: 288\n"
     ]
    }
   ],
   "source": [
    "# Count number of parameters\n",
    "num_params = sum(p.numel() for p in model.parameters() if p.requires_grad)\n",
    "print(f\"Number of parameters: {num_params}\")"
   ]
  },
  {
   "cell_type": "code",
   "execution_count": 14,
   "metadata": {},
   "outputs": [
    {
     "name": "stdout",
     "output_type": "stream",
     "text": [
      "Untrained test\n",
      "--------\n",
      "\n",
      "Epoch 0\n",
      "---------\n",
      "Train loss: 0.034932924915000246\n",
      "Test loss: 0.003774343661202043\n",
      "Epoch 1\n",
      "---------\n",
      "Train loss: 0.004169874311669145\n",
      "Test loss: 0.002502812402568562\n",
      "Epoch 2\n",
      "---------\n",
      "Train loss: 0.0021726915865378886\n",
      "Test loss: 0.001805938393516275\n",
      "Epoch 3\n",
      "---------\n",
      "Train loss: 0.001239236623129111\n",
      "Test loss: 0.000936980098454376\n",
      "Epoch 4\n",
      "---------\n",
      "Train loss: 0.0004928105900445925\n",
      "Test loss: 0.0002324664438808033\n",
      "Epoch 5\n",
      "---------\n",
      "Train loss: 0.00015811982944166316\n",
      "Test loss: 8.688352051311289e-05\n",
      "Epoch 6\n",
      "---------\n",
      "Train loss: 8.172324956115624e-05\n",
      "Test loss: 4.465310421733173e-05\n",
      "Epoch 7\n",
      "---------\n",
      "Train loss: 3.8816742764274974e-05\n",
      "Test loss: 3.913541679541619e-05\n",
      "Epoch 8\n",
      "---------\n",
      "Train loss: 2.8452271195664614e-05\n",
      "Test loss: 3.0346902694569325e-05\n",
      "Epoch 9\n",
      "---------\n",
      "Train loss: 3.553067344872288e-05\n",
      "Test loss: 3.0771883917931776e-05\n",
      "Epoch 10\n",
      "---------\n",
      "Train loss: 4.727826138872944e-05\n",
      "Test loss: 2.587407463135293e-05\n",
      "Epoch 11\n",
      "---------\n",
      "Train loss: 2.7838948657414512e-05\n",
      "Test loss: 1.2529729206390256e-05\n",
      "Epoch 12\n",
      "---------\n",
      "Train loss: 4.8171173224743045e-05\n",
      "Test loss: 2.484787849510274e-05\n",
      "Epoch 13\n",
      "---------\n",
      "Train loss: 3.4133868814137096e-05\n",
      "Test loss: 1.9738731176933998e-05\n",
      "Epoch 14\n",
      "---------\n",
      "Train loss: 2.148365323003899e-05\n",
      "Test loss: 1.5208749167422343e-05\n",
      "Epoch 15\n",
      "---------\n",
      "Train loss: 2.0924110253067843e-05\n",
      "Test loss: 6.263214042329013e-06\n",
      "Epoch 16\n",
      "---------\n",
      "Train loss: 2.185279522974583e-05\n",
      "Test loss: 8.372885111990103e-05\n",
      "Epoch 17\n",
      "---------\n",
      "Train loss: 3.0424691680619605e-05\n",
      "Test loss: 8.447724316028282e-06\n",
      "Epoch 18\n",
      "---------\n",
      "Train loss: 2.8482445911089353e-05\n",
      "Test loss: 9.752109325876832e-06\n",
      "Epoch 19\n",
      "---------\n",
      "Train loss: 1.4380864287257942e-05\n",
      "Test loss: 6.947829613098505e-05\n",
      "Epoch 20\n",
      "---------\n",
      "Train loss: 3.0130934713399747e-05\n",
      "Test loss: 2.2716891357792034e-05\n",
      "Epoch 21\n",
      "---------\n",
      "Train loss: 0.00023960818981525725\n",
      "Test loss: 0.0005100335448145098\n",
      "Epoch 22\n",
      "---------\n",
      "Train loss: 0.0001842056941683751\n",
      "Test loss: 2.9240342248290595e-05\n",
      "Epoch 23\n",
      "---------\n",
      "Train loss: 3.188949638222783e-05\n",
      "Test loss: 1.465890970135906e-05\n",
      "Epoch 24\n",
      "---------\n",
      "Train loss: 2.509610744252045e-05\n",
      "Test loss: 0.00012262305920518292\n",
      "Epoch 25\n",
      "---------\n",
      "Train loss: 6.560869317318483e-05\n",
      "Test loss: 0.0001301152283664874\n",
      "Epoch 26\n",
      "---------\n",
      "Train loss: 0.000147408529454134\n",
      "Test loss: 1.5378809581624596e-05\n",
      "Epoch 27\n",
      "---------\n",
      "Train loss: 7.371988452085194e-05\n",
      "Test loss: 6.254195599489937e-06\n",
      "Epoch 28\n",
      "---------\n",
      "Train loss: 3.2479444917510466e-05\n",
      "Test loss: 2.927167786816022e-05\n",
      "Epoch 29\n",
      "---------\n",
      "Train loss: 4.961609392679025e-05\n",
      "Test loss: 4.314462936165564e-06\n",
      "Epoch 30\n",
      "---------\n",
      "Train loss: 2.3887319878483704e-05\n",
      "Test loss: 1.0355963307326134e-05\n",
      "Epoch 31\n",
      "---------\n",
      "Train loss: 7.483600629545838e-05\n",
      "Test loss: 5.951163407803145e-05\n",
      "Epoch 32\n",
      "---------\n",
      "Train loss: 7.633595032662006e-05\n",
      "Test loss: 8.960013982441668e-05\n",
      "Epoch 33\n",
      "---------\n",
      "Train loss: 0.0001022647823397014\n",
      "Test loss: 6.24300046472363e-05\n",
      "Epoch 34\n",
      "---------\n",
      "Train loss: 0.00011657306789389498\n",
      "Test loss: 2.854249318539465e-06\n",
      "Epoch 35\n",
      "---------\n",
      "Train loss: 0.0001820157554421841\n",
      "Test loss: 0.00020177682342494206\n",
      "Epoch 36\n",
      "---------\n",
      "Train loss: 0.00013141438027286512\n",
      "Test loss: 0.00014301846304863916\n",
      "Epoch 37\n",
      "---------\n",
      "Train loss: 0.00010196082526707421\n",
      "Test loss: 6.803323051624627e-05\n",
      "Epoch 38\n",
      "---------\n",
      "Train loss: 0.00045419932036938236\n",
      "Test loss: 3.8267859361255996e-05\n",
      "Epoch 39\n",
      "---------\n",
      "Train loss: 3.8077364276068424e-05\n",
      "Test loss: 3.349159067236917e-05\n",
      "Epoch 40\n",
      "---------\n",
      "Train loss: 2.8829938195511888e-05\n",
      "Test loss: 4.681189897390083e-05\n",
      "Epoch 41\n",
      "---------\n",
      "Train loss: 9.800017155690117e-05\n",
      "Test loss: 1.7301412611237494e-05\n",
      "Epoch 42\n",
      "---------\n",
      "Train loss: 4.10973345688584e-05\n",
      "Test loss: 1.7990376959835836e-05\n",
      "Epoch 43\n",
      "---------\n",
      "Train loss: 9.591513343074726e-05\n",
      "Test loss: 8.95210491636236e-05\n",
      "Epoch 44\n",
      "---------\n",
      "Train loss: 4.4136132944173044e-05\n",
      "Test loss: 5.957739223079571e-06\n",
      "Epoch 45\n",
      "---------\n",
      "Train loss: 7.962583916189759e-05\n",
      "Test loss: 1.4045538917988286e-05\n",
      "Epoch 46\n",
      "---------\n",
      "Train loss: 0.00016303968555535223\n",
      "Test loss: 7.246774492740217e-06\n",
      "Epoch 47\n",
      "---------\n",
      "Train loss: 1.5284399376816718e-05\n",
      "Test loss: 1.6573632750014967e-05\n",
      "Epoch 48\n",
      "---------\n",
      "Train loss: 3.4495205171253604e-05\n",
      "Test loss: 9.614385109557588e-05\n",
      "Epoch 49\n",
      "---------\n",
      "Train loss: 6.800128361845495e-05\n",
      "Test loss: 6.000510482154176e-06\n"
     ]
    }
   ],
   "source": [
    "classical_loss_train = []\n",
    "classical_loss_test = []\n",
    "print(\"Untrained test\\n--------\")\n",
    "# test_loss = test_model(test_loader, model, loss_function)\n",
    "print()\n",
    "\n",
    "num_epochs = 50\n",
    "\n",
    "for ix_epoch in range(num_epochs):\n",
    "    print(f\"Epoch {ix_epoch}\\n---------\")\n",
    "    train_loss = train_model(train_loader, model, loss_function, optimizer=optimizer)\n",
    "    test_loss = test_model(test_loader, model, loss_function)\n",
    "    classical_loss_train.append(train_loss)\n",
    "    classical_loss_test.append(test_loss)"
   ]
  },
  {
   "cell_type": "code",
   "execution_count": 15,
   "metadata": {},
   "outputs": [],
   "source": [
    "train_eval_loader = DataLoader(train_dataset, batch_size=batch_size, shuffle=False)\n",
    "test_eval_loader = DataLoader(test_dataset, batch_size=batch_size, shuffle=False)\n",
    "\n",
    "ystar_col_Q = \"Model Forecast\"\n",
    "df_train[ystar_col_Q] = predict(train_eval_loader, model).numpy()\n",
    "df_test[ystar_col_Q] = predict(test_eval_loader, model).numpy()"
   ]
  },
  {
   "cell_type": "code",
   "execution_count": 16,
   "metadata": {},
   "outputs": [],
   "source": [
    "# plt.figure(figsize=(12, 7))\n",
    "# plt.plot(range(len(df_train)), df_train[columns], label = \"Real\")\n",
    "# plt.plot(range(len(df_train)), df_train[\"Model Forecast\"], label = \"LSTM Train Prediction\")\n",
    "# plt.ylabel('Stock Price')\n",
    "# plt.xlabel('Days')\n",
    "# plt.legend()\n",
    "# plt.show()"
   ]
  },
  {
   "cell_type": "code",
   "execution_count": 17,
   "metadata": {},
   "outputs": [
    {
     "data": {
      "image/png": "[encoded data removed]",
      "text/plain": [
       "<Figure size 1200x700 with 1 Axes>"
      ]
     },
     "metadata": {},
     "output_type": "display_data"
    }
   ],
   "source": [
    "plt.figure(figsize=(12, 7))\n",
    "plt.plot(range(len(df_test)), df_test[columns], label = \"Real Data\")\n",
    "plt.plot(range(len(df_test)), df_test[\"Model Forecast\"], label = \"LSTM Test Prediction\")\n",
    "plt.ylabel('Stock Price')\n",
    "plt.xlabel('Days')\n",
    "plt.legend()\n",
    "plt.show()"
   ]
  },
  {
   "cell_type": "code",
   "execution_count": 18,
   "metadata": {},
   "outputs": [],
   "source": [
    "# df_test.to_csv('AAPL_2022-01-01_2023-01-01_LSTM.csv', index=False)"
   ]
  },
  {
   "cell_type": "code",
   "execution_count": 19,
   "metadata": {},
   "outputs": [
    {
     "data": {
      "text/plain": [
       "<matplotlib.legend.Legend at 0x288a2653640>"
      ]
     },
     "execution_count": 19,
     "metadata": {},
     "output_type": "execute_result"
    },
    {
     "data": {
      "image/png": "[encoded data removed]",
      "text/plain": [
       "<Figure size 640x480 with 1 Axes>"
      ]
     },
     "metadata": {},
     "output_type": "display_data"
    }
   ],
   "source": [
    "plt.plot(classical_loss_train, label='classical_loss_train')\n",
    "# plt.plot(classical_loss_test, label='classical_loss_test')\n",
    "pd.DataFrame(classical_loss_train).to_csv('LSTM_loss.csv', index=False)\n",
    "plt.title('Train loss')\n",
    "plt.legend()"
   ]
  },
  {
   "cell_type": "code",
   "execution_count": 20,
   "metadata": {},
   "outputs": [
    {
     "name": "stdout",
     "output_type": "stream",
     "text": [
      "Train RMSE: 0.0030914583833342333\n",
      "Test RMSE: 0.002449594026262347\n"
     ]
    }
   ],
   "source": [
    "# Calculate the RMSE for the train and test data\n",
    "from sklearn.metrics import mean_squared_error\n",
    "\n",
    "train_rmse = math.sqrt(mean_squared_error(df_train[columns], df_train[\"Model Forecast\"]))\n",
    "test_rmse = math.sqrt(mean_squared_error(df_test[columns], df_test[\"Model Forecast\"]))\n",
    "print(f\"Train RMSE: {train_rmse}\")\n",
    "print(f\"Test RMSE: {test_rmse}\")"
   ]
  },
  {
   "cell_type": "markdown",
   "metadata": {},
   "source": [
    "Train RMSE: 0.004553309809231617\n",
    "Test RMSE: 0.004868512148952862"
   ]
  },
  {
   "cell_type": "code",
   "execution_count": 21,
   "metadata": {},
   "outputs": [
    {
     "name": "stdout",
     "output_type": "stream",
     "text": [
      "Training Data Metrics:\n",
      "RMSE: 0.0031\n",
      "MAE: 0.0027\n",
      "MAPE: 41786303.06%\n",
      "\n",
      "Test Data Metrics:\n",
      "RMSE: 0.0024\n",
      "MAE: 0.0016\n",
      "MAPE: 1.07%\n"
     ]
    }
   ],
   "source": [
    "from sklearn.metrics import mean_squared_error, mean_absolute_error\n",
    "import math\n",
    "import numpy as np\n",
    "\n",
    "# Calculate metrics for train data\n",
    "train_rmse = math.sqrt(mean_squared_error(df_train[\"Close\"], df_train[\"Model Forecast\"]))\n",
    "train_mae = mean_absolute_error(df_train[\"Close\"], df_train[\"Model Forecast\"])\n",
    "# Avoid division by zero in MAPE calculation\n",
    "train_mape = np.mean(np.abs((df_train[\"Close\"] - df_train[\"Model Forecast\"]) / np.maximum(np.abs(df_train[\"Close\"]), 1e-10))) * 100\n",
    "\n",
    "# Calculate metrics for test data\n",
    "test_rmse = math.sqrt(mean_squared_error(df_test[\"Close\"], df_test[\"Model Forecast\"]))\n",
    "test_mae = mean_absolute_error(df_test[\"Close\"], df_test[\"Model Forecast\"])\n",
    "# Avoid division by zero in MAPE calculation\n",
    "test_mape = np.mean(np.abs((df_test[\"Close\"] - df_test[\"Model Forecast\"]) / np.maximum(np.abs(df_test[\"Close\"]), 1e-10))) * 100\n",
    "\n",
    "# Print all metrics\n",
    "print(\"Training Data Metrics:\")\n",
    "print(f\"RMSE: {train_rmse:.4f}\")\n",
    "print(f\"MAE: {train_mae:.4f}\")\n",
    "print(f\"MAPE: {train_mape:.2f}%\")\n",
    "print(\"\\nTest Data Metrics:\")\n",
    "print(f\"RMSE: {test_rmse:.4f}\")\n",
    "print(f\"MAE: {test_mae:.4f}\")\n",
    "print(f\"MAPE: {test_mape:.2f}%\")"
   ]
  },
  {
   "cell_type": "code",
   "execution_count": 22,
   "metadata": {},
   "outputs": [
    {
     "name": "stdout",
     "output_type": "stream",
     "text": [
      "Train accuracy: 1.0\n",
      "Test accuracy: 1.0\n"
     ]
    }
   ],
   "source": [
    "# Calculate the accuracy of the model\n",
    "def accuracy(y, y_star):\n",
    "    return np.mean(np.abs(y - y_star) < 0.1)\n",
    "\n",
    "train_accuracy = accuracy(df_train[\"Close\"], df_train[\"Model Forecast\"])\n",
    "test_accuracy = accuracy(df_test[\"Close\"], df_test[\"Model Forecast\"])\n",
    "print(f\"Train accuracy: {train_accuracy}\")\n",
    "print(f\"Test accuracy: {test_accuracy}\")"
   ]
  },
  {
   "cell_type": "code",
   "execution_count": null,
   "metadata": {},
   "outputs": [],
   "source": []
  },
  {
   "cell_type": "code",
   "execution_count": null,
   "metadata": {},
   "outputs": [],
   "source": []
  }
 ],
 "metadata": {
  "kernelspec": {
   "display_name": "env",
   "language": "python",
   "name": "python3"
  },
  "language_info": {
   "codemirror_mode": {
    "name": "ipython",
    "version": 3
   },
   "file_extension": ".py",
   "mimetype": "text/x-python",
   "name": "python",
   "nbconvert_exporter": "python",
   "pygments_lexer": "ipython3",
   "version": "3.10.8"
  },
  "orig_nbformat": 4
 },
 "nbformat": 4,
 "nbformat_minor": 2
}
